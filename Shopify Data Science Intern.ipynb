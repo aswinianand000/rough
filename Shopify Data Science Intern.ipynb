{
 "cells": [
  {
   "cell_type": "code",
   "execution_count": 1,
   "id": "6d7dd8c8-bc78-442e-97fc-e9bb528e4149",
   "metadata": {},
   "outputs": [],
   "source": [
    "# Importing the necessary libraries\n",
    "import math\n",
    "import numpy                            as np                        # importing numpy library\n",
    "import pandas                           as pd                        # importing pandas library\n",
    "import seaborn                          as sns                       # For Data Visualization \n",
    "import matplotlib.pyplot                as plt                       # Necessary module for plotting purpose\n",
    "import warnings                                                      # importing warning library\n",
    "\n",
    "# add graphs into jupiter notebook\n",
    "%matplotlib inline                             \n",
    "warnings.filterwarnings('ignore')                                    # for ignoring warnings in notebook"
   ]
  },
  {
   "cell_type": "code",
   "execution_count": 2,
   "id": "7e548fcc-ccaa-4091-b824-7b6bfbd63392",
   "metadata": {},
   "outputs": [
    {
     "data": {
      "text/html": [
       "<div>\n",
       "<style scoped>\n",
       "    .dataframe tbody tr th:only-of-type {\n",
       "        vertical-align: middle;\n",
       "    }\n",
       "\n",
       "    .dataframe tbody tr th {\n",
       "        vertical-align: top;\n",
       "    }\n",
       "\n",
       "    .dataframe thead th {\n",
       "        text-align: right;\n",
       "    }\n",
       "</style>\n",
       "<table border=\"1\" class=\"dataframe\">\n",
       "  <thead>\n",
       "    <tr style=\"text-align: right;\">\n",
       "      <th></th>\n",
       "      <th>order_id</th>\n",
       "      <th>shop_id</th>\n",
       "      <th>user_id</th>\n",
       "      <th>order_amount</th>\n",
       "      <th>total_items</th>\n",
       "      <th>payment_method</th>\n",
       "      <th>created_at</th>\n",
       "    </tr>\n",
       "  </thead>\n",
       "  <tbody>\n",
       "    <tr>\n",
       "      <th>0</th>\n",
       "      <td>1</td>\n",
       "      <td>53</td>\n",
       "      <td>746</td>\n",
       "      <td>224</td>\n",
       "      <td>2</td>\n",
       "      <td>cash</td>\n",
       "      <td>2017-03-13 12:36:56</td>\n",
       "    </tr>\n",
       "    <tr>\n",
       "      <th>1</th>\n",
       "      <td>2</td>\n",
       "      <td>92</td>\n",
       "      <td>925</td>\n",
       "      <td>90</td>\n",
       "      <td>1</td>\n",
       "      <td>cash</td>\n",
       "      <td>2017-03-03 17:38:52</td>\n",
       "    </tr>\n",
       "    <tr>\n",
       "      <th>2</th>\n",
       "      <td>3</td>\n",
       "      <td>44</td>\n",
       "      <td>861</td>\n",
       "      <td>144</td>\n",
       "      <td>1</td>\n",
       "      <td>cash</td>\n",
       "      <td>2017-03-14 4:23:56</td>\n",
       "    </tr>\n",
       "    <tr>\n",
       "      <th>3</th>\n",
       "      <td>4</td>\n",
       "      <td>18</td>\n",
       "      <td>935</td>\n",
       "      <td>156</td>\n",
       "      <td>1</td>\n",
       "      <td>credit_card</td>\n",
       "      <td>2017-03-26 12:43:37</td>\n",
       "    </tr>\n",
       "    <tr>\n",
       "      <th>4</th>\n",
       "      <td>5</td>\n",
       "      <td>18</td>\n",
       "      <td>883</td>\n",
       "      <td>156</td>\n",
       "      <td>1</td>\n",
       "      <td>credit_card</td>\n",
       "      <td>2017-03-01 4:35:11</td>\n",
       "    </tr>\n",
       "  </tbody>\n",
       "</table>\n",
       "</div>"
      ],
      "text/plain": [
       "   order_id  shop_id  user_id  order_amount  total_items payment_method  \\\n",
       "0         1       53      746           224            2           cash   \n",
       "1         2       92      925            90            1           cash   \n",
       "2         3       44      861           144            1           cash   \n",
       "3         4       18      935           156            1    credit_card   \n",
       "4         5       18      883           156            1    credit_card   \n",
       "\n",
       "            created_at  \n",
       "0  2017-03-13 12:36:56  \n",
       "1  2017-03-03 17:38:52  \n",
       "2   2017-03-14 4:23:56  \n",
       "3  2017-03-26 12:43:37  \n",
       "4   2017-03-01 4:35:11  "
      ]
     },
     "execution_count": 2,
     "metadata": {},
     "output_type": "execute_result"
    }
   ],
   "source": [
    "# loading \"2019 Winter Data Science Intern Challenge Data Set - Sheet1.csv\" data into sneakerDataOrg df using pandas read_csv function\n",
    "sneakerDataOrg = pd.read_csv(\"2019 Winter Data Science Intern Challenge Data Set - Sheet1.csv\")\n",
    "\n",
    "# printing top 5 rows of the loanDataOrg df\n",
    "sneakerDataOrg.head()"
   ]
  },
  {
   "cell_type": "code",
   "execution_count": 3,
   "id": "a4dd6166-f53f-4257-9a1d-b92843872f6c",
   "metadata": {},
   "outputs": [
    {
     "name": "stdout",
     "output_type": "stream",
     "text": [
      "\u001b[1m*\u001b[1m*\u001b[1m*\u001b[1m*\u001b[1m*\u001b[1m*\u001b[1m*\u001b[1m*\u001b[1m*\u001b[1m*\u001b[1m*\u001b[1m*\u001b[1m*\u001b[1m*\u001b[1m*\u001b[1m*\u001b[1m*\u001b[1m*\u001b[1m*\u001b[1m*\u001b[1m*\u001b[1m*\u001b[1m*\u001b[1m*\u001b[1m*\u001b[1m*\u001b[1m*\u001b[1m*\u001b[1m*\u001b[1m*\u001b[1m*\u001b[1m*\u001b[1m*\u001b[1m*\u001b[1m*\u001b[1m*\u001b[1m*\u001b[1m*\u001b[1m*\u001b[1m*\u001b[1m*\u001b[1m*\u001b[1m*\u001b[1m*\u001b[1m*\u001b[1m*\u001b[1m*\u001b[1m*\u001b[1m*\u001b[1m*\u001b[1m*\u001b[1m*\u001b[1m*\u001b[1m*\u001b[1m*\u001b[1m*\u001b[1m*\u001b[1m*\u001b[1m*\u001b[1m*\u001b[1m*\u001b[1m*\u001b[1m*\u001b[1m*\u001b[1m*\u001b[1m*\u001b[1m*\u001b[1m*\u001b[1m*\u001b[1m*\u001b[1m*\u001b[1m*\u001b[1m*\u001b[1m*\u001b[1m*\u001b[1m*\u001b[1m*\u001b[1m*\u001b[1m*\u001b[1m*\u001b[1m*\u001b[1m*\u001b[1m*\u001b[1m*\u001b[1m*\u001b[1m*\u001b[1m*\u001b[1m*\u001b[1m*\u001b[1m*\u001b[1m*\u001b[1m*\u001b[1m*\u001b[1m*\u001b[1m*\u001b[1m*\u001b[1m*\u001b[1m*\u001b[1m*\u001b[1m*\n",
      "a.\n",
      "Column_Names        Data_Types\n",
      "******************************\n",
      "\u001b[0morder_id           int64\n",
      "shop_id            int64\n",
      "user_id            int64\n",
      "order_amount       int64\n",
      "total_items        int64\n",
      "payment_method    object\n",
      "created_at        object\n",
      "dtype: object\u001b[1m\n",
      "******************************\n",
      "\n",
      "****************************************************************************************************\n",
      "b.\n",
      "Number of Columns with each DataTypes as follows :\n",
      "**************************************************\n",
      "Column_Names     No_of_Columns\u001b[0m\n",
      "******************************\n",
      "int64     5\n",
      "object    2\n",
      "dtype: int64\n",
      "\u001b[1m*\u001b[1m*\u001b[1m*\u001b[1m*\u001b[1m*\u001b[1m*\u001b[1m*\u001b[1m*\u001b[1m*\u001b[1m*\u001b[1m*\u001b[1m*\u001b[1m*\u001b[1m*\u001b[1m*\u001b[1m*\u001b[1m*\u001b[1m*\u001b[1m*\u001b[1m*\u001b[1m*\u001b[1m*\u001b[1m*\u001b[1m*\u001b[1m*\u001b[1m*\u001b[1m*\u001b[1m*\u001b[1m*\u001b[1m*\n",
      "\u001b[0m\n",
      "\u001b[1m*\u001b[1m*\u001b[1m*\u001b[1m*\u001b[1m*\u001b[1m*\u001b[1m*\u001b[1m*\u001b[1m*\u001b[1m*\u001b[1m*\u001b[1m*\u001b[1m*\u001b[1m*\u001b[1m*\u001b[1m*\u001b[1m*\u001b[1m*\u001b[1m*\u001b[1m*\u001b[1m*\u001b[1m*\u001b[1m*\u001b[1m*\u001b[1m*\u001b[1m*\u001b[1m*\u001b[1m*\u001b[1m*\u001b[1m*\u001b[1m*\u001b[1m*\u001b[1m*\u001b[1m*\u001b[1m*\u001b[1m*\u001b[1m*\u001b[1m*\u001b[1m*\u001b[1m*\u001b[1m*\u001b[1m*\u001b[1m*\u001b[1m*\u001b[1m*\u001b[1m*\u001b[1m*\u001b[1m*\u001b[1m*\u001b[1m*\u001b[1m*\u001b[1m*\u001b[1m*\u001b[1m*\u001b[1m*\u001b[1m*\u001b[1m*\u001b[1m*\u001b[1m*\u001b[1m*\u001b[1m*\u001b[1m*\u001b[1m*\u001b[1m*\u001b[1m*\u001b[1m*\u001b[1m*\u001b[1m*\u001b[1m*\u001b[1m*\u001b[1m*\u001b[1m*\u001b[1m*\u001b[1m*\u001b[1m*\u001b[1m*\u001b[1m*\u001b[1m*\u001b[1m*\u001b[1m*\u001b[1m*\u001b[1m*\u001b[1m*\u001b[1m*\u001b[1m*\u001b[1m*\u001b[1m*\u001b[1m*\u001b[1m*\u001b[1m*\u001b[1m*\u001b[1m*\u001b[1m*\u001b[1m*\u001b[1m*\u001b[1m*\u001b[1m*\u001b[1m*\u001b[1m*\u001b[1m*\n",
      "c.\n",
      "Each Column Names of the dataset\n",
      "********************************************************************************\n",
      "\u001b[0mIndex(['order_id', 'shop_id', 'user_id', 'order_amount', 'total_items',\n",
      "       'payment_method', 'created_at'],\n",
      "      dtype='object')\u001b[1m\n",
      "********************************************************************************\n",
      "\u001b[0m\n"
     ]
    }
   ],
   "source": [
    "# printing datatypes of each columns of the dataset\n",
    "sneakerData = sneakerDataOrg.copy()\n",
    "print(\"\\033[1m*\"*100)\n",
    "print(\"a.\\nColumn_Names        Data_Types\")\n",
    "print(\"*\"*30)\n",
    "print(\"\\033[0m{0}\\033[1m\".format(sneakerData.dtypes))\n",
    "print(\"*\"*30)\n",
    "print()\n",
    "\n",
    "# printing No of Columns having different Types of Datatype\n",
    "\n",
    "print(\"*\"*100)\n",
    "print(\"b.\\nNumber of Columns with each DataTypes as follows :\")\n",
    "print(\"*\"*50)\n",
    "print(\"Column_Names     No_of_Columns\\033[0m\")\n",
    "print(\"*\"*30)\n",
    "print(sneakerData.dtypes.value_counts())\n",
    "print(\"\\033[1m*\"*30)\n",
    "print(\"\\033[0m\")\n",
    "\n",
    "# printing Different Column Names of the dataset\n",
    "\n",
    "print(\"\\033[1m*\"*100)\n",
    "print(\"c.\\nEach Column Names of the dataset\")\n",
    "print(\"*\"*80)\n",
    "print(\"\\033[0m{0}\\033[1m\".format(sneakerData.columns))\n",
    "print(\"*\"*80)\n",
    "print(\"\\033[0m\")"
   ]
  },
  {
   "cell_type": "markdown",
   "id": "ff5240eb-48e5-4f2d-8dcf-313128026db7",
   "metadata": {},
   "source": [
    "**As shown in the above, <br>&nbsp;&nbsp;&nbsp;&nbsp;&nbsp;&nbsp;&nbsp;&nbsp;(a.) There are no missing values<br>and (b.) No duplicate row in the given dataset**\n",
    "\n",
    "**Question 1: Given some sample data, write a program to answer the following:**\n",
    "\n",
    "**On Shopify, we have exactly 100 sneaker shops, and each of these shops sells only one model of shoe. We want to do some analysis of the average order value (AOV). When we look at orders data over a 30 day window, we naively calculate an AOV of $3145.13 . Given that we know these shops are selling sneakers, a relatively affordable item, something seems wrong with our analysis.**\n",
    "\n",
    "**a. Think about what could be going wrong with our calculation. Think about a better way to evaluate this data.**\n",
    "\n",
    "**First lets confirm the data is not having any missing value or duplicate rows in it.**"
   ]
  },
  {
   "cell_type": "code",
   "execution_count": 4,
   "id": "843624d5-3b81-4d2b-a8df-b7ac4d4dc1c7",
   "metadata": {},
   "outputs": [
    {
     "name": "stdout",
     "output_type": "stream",
     "text": [
      "\u001b[1m*\u001b[1m*\u001b[1m*\u001b[1m*\u001b[1m*\u001b[1m*\u001b[1m*\u001b[1m*\u001b[1m*\u001b[1m*\u001b[1m*\u001b[1m*\u001b[1m*\u001b[1m*\u001b[1m*\u001b[1m*\u001b[1m*\u001b[1m*\u001b[1m*\u001b[1m*\u001b[1m*\u001b[1m*\u001b[1m*\u001b[1m*\u001b[1m*\u001b[1m*\u001b[1m*\u001b[1m*\u001b[1m*\u001b[1m*\u001b[1m*\u001b[1m*\u001b[1m*\u001b[1m*\u001b[1m*\u001b[1m*\u001b[1m*\u001b[1m*\u001b[1m*\u001b[1m*\u001b[1m*\u001b[1m*\u001b[1m*\u001b[1m*\u001b[1m*\u001b[1m*\u001b[1m*\u001b[1m*\u001b[1m*\u001b[1m*\u001b[1m*\u001b[1m*\u001b[1m*\u001b[1m*\u001b[1m*\u001b[1m*\u001b[1m*\u001b[1m*\u001b[1m*\u001b[1m*\u001b[1m*\u001b[1m*\u001b[1m*\u001b[1m*\u001b[1m*\u001b[1m*\u001b[1m*\u001b[1m*\u001b[1m*\u001b[1m*\u001b[1m*\u001b[1m*\u001b[1m*\u001b[1m*\u001b[1m*\u001b[1m*\u001b[1m*\u001b[1m*\u001b[1m*\u001b[1m*\u001b[1m*\u001b[1m*\u001b[1m*\u001b[1m*\u001b[1m*\u001b[1m*\u001b[1m*\u001b[1m*\u001b[1m*\u001b[1m*\u001b[1m*\u001b[1m*\u001b[1m*\u001b[1m*\u001b[1m*\u001b[1m*\u001b[1m*\u001b[1m*\u001b[1m*\u001b[1m*\n",
      "Column_Name       No_of_Missing_Values\n",
      "**************************************************\n",
      "\u001b[0morder_id          0\n",
      "shop_id           0\n",
      "user_id           0\n",
      "order_amount      0\n",
      "total_items       0\n",
      "payment_method    0\n",
      "created_at        0\n",
      "dtype: int64\n",
      "\u001b[1m*\u001b[1m*\u001b[1m*\u001b[1m*\u001b[1m*\u001b[1m*\u001b[1m*\u001b[1m*\u001b[1m*\u001b[1m*\u001b[1m*\u001b[1m*\u001b[1m*\u001b[1m*\u001b[1m*\u001b[1m*\u001b[1m*\u001b[1m*\u001b[1m*\u001b[1m*\u001b[1m*\u001b[1m*\u001b[1m*\u001b[1m*\u001b[1m*\u001b[1m*\u001b[1m*\u001b[1m*\u001b[1m*\u001b[1m*\u001b[1m*\u001b[1m*\u001b[1m*\u001b[1m*\u001b[1m*\u001b[1m*\u001b[1m*\u001b[1m*\u001b[1m*\u001b[1m*\u001b[1m*\u001b[1m*\u001b[1m*\u001b[1m*\u001b[1m*\u001b[1m*\u001b[1m*\u001b[1m*\u001b[1m*\u001b[1m*\n",
      "\n",
      "****************************************************************************************************\n",
      "Showing Duplicate rows if any in the dataset: \n",
      "**************************************************\n",
      "\u001b[0mEmpty DataFrame\n",
      "Columns: [order_id, shop_id, user_id, order_amount, total_items, payment_method, created_at]\n",
      "Index: []\n",
      "\u001b[1m*\u001b[1m*\u001b[1m*\u001b[1m*\u001b[1m*\u001b[1m*\u001b[1m*\u001b[1m*\u001b[1m*\u001b[1m*\u001b[1m*\u001b[1m*\u001b[1m*\u001b[1m*\u001b[1m*\u001b[1m*\u001b[1m*\u001b[1m*\u001b[1m*\u001b[1m*\u001b[1m*\u001b[1m*\u001b[1m*\u001b[1m*\u001b[1m*\u001b[1m*\u001b[1m*\u001b[1m*\u001b[1m*\u001b[1m*\u001b[1m*\u001b[1m*\u001b[1m*\u001b[1m*\u001b[1m*\u001b[1m*\u001b[1m*\u001b[1m*\u001b[1m*\u001b[1m*\u001b[1m*\u001b[1m*\u001b[1m*\u001b[1m*\u001b[1m*\u001b[1m*\u001b[1m*\u001b[1m*\u001b[1m*\u001b[1m*\u001b[1m*\u001b[1m*\u001b[1m*\u001b[1m*\u001b[1m*\u001b[1m*\u001b[1m*\u001b[1m*\u001b[1m*\u001b[1m*\u001b[1m*\u001b[1m*\u001b[1m*\u001b[1m*\u001b[1m*\u001b[1m*\u001b[1m*\u001b[1m*\u001b[1m*\u001b[1m*\u001b[1m*\u001b[1m*\u001b[1m*\u001b[1m*\u001b[1m*\u001b[1m*\u001b[1m*\u001b[1m*\u001b[1m*\u001b[1m*\u001b[1m*\u001b[1m*\u001b[1m*\u001b[1m*\u001b[1m*\u001b[1m*\u001b[1m*\u001b[1m*\u001b[1m*\u001b[1m*\u001b[1m*\u001b[1m*\u001b[1m*\u001b[1m*\u001b[1m*\u001b[1m*\u001b[1m*\u001b[1m*\u001b[1m*\u001b[1m*\n",
      "\u001b[0m\n"
     ]
    }
   ],
   "source": [
    "# checking missing values in dataset for each attributes / columns \n",
    "\n",
    "print(\"\\033[1m*\"*100)\n",
    "print(\"Column_Name       No_of_Missing_Values\")\n",
    "print(\"*\"*50)\n",
    "print(\"\\033[0m{0}\".format(sneakerData.isnull().sum()))\n",
    "print(\"\\033[1m*\"*50)\n",
    "print()\n",
    "\n",
    "# checking if any duplicate rows available in the dataset\n",
    "\n",
    "print(\"*\"*100)\n",
    "print(\"Showing Duplicate rows if any in the dataset: \")\n",
    "print(\"*\"*50)\n",
    "print(\"\\033[0m{0}\".format(sneakerData[sneakerData.duplicated()]))\n",
    "print(\"\\033[1m*\"*100)\n",
    "print(\"\\033[0m\")"
   ]
  },
  {
   "cell_type": "markdown",
   "id": "f20242c7-dfb5-46a2-bf50-6c60c9606527",
   "metadata": {},
   "source": [
    "**Now as per naive calculation AOV given above:**"
   ]
  },
  {
   "cell_type": "code",
   "execution_count": 5,
   "id": "165e7a53-3782-444a-991d-ed198fb0a61a",
   "metadata": {},
   "outputs": [
    {
     "name": "stdout",
     "output_type": "stream",
     "text": [
      "[INFO] Number of sneakers shops :100\n",
      "[INFO] Average order value (AOV) of thee sneaker shops is 3145.13\n"
     ]
    }
   ],
   "source": [
    "print(f\"[INFO] Number of sneakers shops :{sneakerData['shop_id'].nunique()}\")\n",
    "print(f\"[INFO] Average order value (AOV) of thee sneaker shops is {round(sneakerData['order_amount'].sum()/len(sneakerData), 2)}\")"
   ]
  },
  {
   "cell_type": "markdown",
   "id": "027aa8df-9fe8-4219-a063-3d0c28fa7788",
   "metadata": {},
   "source": [
    "**Lets describe the data to check for any insights:**"
   ]
  },
  {
   "cell_type": "code",
   "execution_count": 6,
   "id": "11117149-4c1e-4b31-8ded-5029c2ecff52",
   "metadata": {},
   "outputs": [
    {
     "data": {
      "text/html": [
       "<div>\n",
       "<style scoped>\n",
       "    .dataframe tbody tr th:only-of-type {\n",
       "        vertical-align: middle;\n",
       "    }\n",
       "\n",
       "    .dataframe tbody tr th {\n",
       "        vertical-align: top;\n",
       "    }\n",
       "\n",
       "    .dataframe thead th {\n",
       "        text-align: right;\n",
       "    }\n",
       "</style>\n",
       "<table border=\"1\" class=\"dataframe\">\n",
       "  <thead>\n",
       "    <tr style=\"text-align: right;\">\n",
       "      <th></th>\n",
       "      <th>order_id</th>\n",
       "      <th>shop_id</th>\n",
       "      <th>user_id</th>\n",
       "      <th>order_amount</th>\n",
       "      <th>total_items</th>\n",
       "    </tr>\n",
       "  </thead>\n",
       "  <tbody>\n",
       "    <tr>\n",
       "      <th>count</th>\n",
       "      <td>5000.000000</td>\n",
       "      <td>5000.000000</td>\n",
       "      <td>5000.000000</td>\n",
       "      <td>5000.000000</td>\n",
       "      <td>5000.00000</td>\n",
       "    </tr>\n",
       "    <tr>\n",
       "      <th>mean</th>\n",
       "      <td>2500.500000</td>\n",
       "      <td>50.078800</td>\n",
       "      <td>849.092400</td>\n",
       "      <td>3145.128000</td>\n",
       "      <td>8.78720</td>\n",
       "    </tr>\n",
       "    <tr>\n",
       "      <th>std</th>\n",
       "      <td>1443.520003</td>\n",
       "      <td>29.006118</td>\n",
       "      <td>87.798982</td>\n",
       "      <td>41282.539349</td>\n",
       "      <td>116.32032</td>\n",
       "    </tr>\n",
       "    <tr>\n",
       "      <th>min</th>\n",
       "      <td>1.000000</td>\n",
       "      <td>1.000000</td>\n",
       "      <td>607.000000</td>\n",
       "      <td>90.000000</td>\n",
       "      <td>1.00000</td>\n",
       "    </tr>\n",
       "    <tr>\n",
       "      <th>25%</th>\n",
       "      <td>1250.750000</td>\n",
       "      <td>24.000000</td>\n",
       "      <td>775.000000</td>\n",
       "      <td>163.000000</td>\n",
       "      <td>1.00000</td>\n",
       "    </tr>\n",
       "    <tr>\n",
       "      <th>50%</th>\n",
       "      <td>2500.500000</td>\n",
       "      <td>50.000000</td>\n",
       "      <td>849.000000</td>\n",
       "      <td>284.000000</td>\n",
       "      <td>2.00000</td>\n",
       "    </tr>\n",
       "    <tr>\n",
       "      <th>75%</th>\n",
       "      <td>3750.250000</td>\n",
       "      <td>75.000000</td>\n",
       "      <td>925.000000</td>\n",
       "      <td>390.000000</td>\n",
       "      <td>3.00000</td>\n",
       "    </tr>\n",
       "    <tr>\n",
       "      <th>max</th>\n",
       "      <td>5000.000000</td>\n",
       "      <td>100.000000</td>\n",
       "      <td>999.000000</td>\n",
       "      <td>704000.000000</td>\n",
       "      <td>2000.00000</td>\n",
       "    </tr>\n",
       "  </tbody>\n",
       "</table>\n",
       "</div>"
      ],
      "text/plain": [
       "          order_id      shop_id      user_id   order_amount  total_items\n",
       "count  5000.000000  5000.000000  5000.000000    5000.000000   5000.00000\n",
       "mean   2500.500000    50.078800   849.092400    3145.128000      8.78720\n",
       "std    1443.520003    29.006118    87.798982   41282.539349    116.32032\n",
       "min       1.000000     1.000000   607.000000      90.000000      1.00000\n",
       "25%    1250.750000    24.000000   775.000000     163.000000      1.00000\n",
       "50%    2500.500000    50.000000   849.000000     284.000000      2.00000\n",
       "75%    3750.250000    75.000000   925.000000     390.000000      3.00000\n",
       "max    5000.000000   100.000000   999.000000  704000.000000   2000.00000"
      ]
     },
     "execution_count": 6,
     "metadata": {},
     "output_type": "execute_result"
    }
   ],
   "source": [
    "# Five point summary of each attribute\n",
    "sneakerData.describe()"
   ]
  },
  {
   "cell_type": "markdown",
   "id": "6f2d741c-6d58-4658-b620-699981353826",
   "metadata": {},
   "source": [
    "**From the above we can clearly see that there are some extreme outliers are present in \"order_amount\".<br>\n",
    "Lets find out the outliers:**"
   ]
  },
  {
   "cell_type": "code",
   "execution_count": 7,
   "id": "082c1d59-5fd2-47f8-90d4-31414c94b3ad",
   "metadata": {},
   "outputs": [],
   "source": [
    "def showOutliers(pdData):\n",
    "    colNames = []\n",
    "    meanOut = []\n",
    "    medianOut = []\n",
    "    lowerQ = []\n",
    "    upperQ = []\n",
    "    iqrOut = []\n",
    "    noOfOutLiers = []\n",
    "    perOfOutliers = []\n",
    "    valOutliers = []\n",
    "    # looping through all numeric datatype columns\n",
    "    for feature in (pdData.select_dtypes(include=np.number).columns.tolist()):\n",
    "        Q1 = pdData[feature].quantile(0.25)        # evaluating lower / first quartile\n",
    "        Q3 = pdData[feature].quantile(0.75)        # evaluating upper / third quartile\n",
    "        IQR = Q3 - Q1                             # evaluating Inter Quartile Range i.e IQR\n",
    "        '''\n",
    "        finding outliers which are mild outliers (Lower quartile - 1.5 times IQR) or\n",
    "        extreme outliers (Upper quartile + 1.5 times IQR)\n",
    "        '''\n",
    "        outliers = pdData[((pdData[feature] < (Q1 - 1.5 * IQR)) |(pdData[feature] > (Q3 + 1.5 * IQR)))][feature]\n",
    "        if(outliers.shape[0] != 0):\n",
    "            \n",
    "            colNames.append(feature)\n",
    "            meanOut.append(round(np.mean(pdData[feature]),3))\n",
    "            medianOut.append(round(np.median(pdData[feature]),3))\n",
    "            lowerQ.append(Q1)\n",
    "            upperQ.append(Q3)\n",
    "            iqrOut.append(round(IQR,3))\n",
    "            noOfOutLiers.append(outliers.shape[0])\n",
    "            perOfOutliers.append(str(round(((outliers.shape[0]/pdData[feature].shape[0])*100),3))+\" %\")\n",
    "            valOutliers.append(sorted(outliers.tolist()))\n",
    "            \n",
    "            plt.figure(figsize=(15,3))                # setting figure size with width = 15 and height = 3\n",
    "            print(\"*\"*30)\n",
    "            print(\"\\033[1mBoxplot of {0} column : \\033[0m\".format(feature))\n",
    "            print(\"*\"*30)\n",
    "            ax = sns.boxplot(x=pdData[feature])        # seaborn boxplot to examine outliers of the feature\n",
    "            plt.pause(0.005)\n",
    "            # printing mean, median and IQR for the feature\n",
    "            print(\"\\033[1mFeature {0} : Mean = {1}, Median = {2} and Inter-Quartile-Range (IQR) = {3}\\033[0m\"\n",
    "                  .format(feature,round(np.mean(pdData[feature]),3),round(np.median(pdData[feature]),3),round(IQR,3))\n",
    "                 )\n",
    "            # printing No of outliers, percentage of the data points that are outliers and the values of the outliers\n",
    "            print(\"There are \\033[1m{0} outliers\\033[0m ({1} % of the data points) in \\033[1m{2}\\033[0m feature and the values are \\033[1m{3}\\033[0m\"\n",
    "            .format(outliers.shape[0],round(((outliers.shape[0]/pdData[feature].shape[0])*100),3),feature,outliers.tolist()))\n",
    "            print(\"*\"*125)\n",
    "        else:\n",
    "            colNames.append(feature)\n",
    "            meanOut.append(round(np.mean(pdData[feature]),3))\n",
    "            medianOut.append(round(np.median(pdData[feature]),3))\n",
    "            lowerQ.append(Q1)\n",
    "            upperQ.append(Q3)\n",
    "            iqrOut.append(round(IQR,3))\n",
    "            noOfOutLiers.append(outliers.shape[0])\n",
    "            perOfOutliers.append(str(round(((outliers.shape[0]/pdData[feature].shape[0])*100),3))+\" %\")\n",
    "            valOutliers.append(sorted(outliers.tolist()))\n",
    "    if(len(colNames) == 0):\n",
    "        print(\"There are \\033[1mno outliers\\033[0m present in Dataset.\")\n",
    "    else:\n",
    "        data = [colNames, meanOut, medianOut, lowerQ, upperQ, iqrOut, noOfOutLiers, perOfOutliers, valOutliers]\n",
    "        outliersPd = pd.DataFrame(data,index=['Column Name', 'Mean', 'Median', 'Lower Quartile', 'Upper Quartile', 'IQR', 'No of Outliers Present', 'Percentage of Outliers', 'Values of Outliers'])\n",
    "        pd.set_option('display.max_colwidth',-1)\n",
    "        return outliersPd.T"
   ]
  },
  {
   "cell_type": "code",
   "execution_count": 8,
   "id": "4f64f95c-a13e-4052-8f08-963af29dd51d",
   "metadata": {},
   "outputs": [
    {
     "name": "stdout",
     "output_type": "stream",
     "text": [
      "******************************\n",
      "\u001b[1mBoxplot of order_amount column : \u001b[0m\n",
      "******************************\n"
     ]
    },
    {
     "data": {
      "image/png": "[encoded data removed]",
      "text/plain": [
       "<Figure size 1080x216 with 1 Axes>"
      ]
     },
     "metadata": {
      "needs_background": "light"
     },
     "output_type": "display_data"
    },
    {
     "name": "stdout",
     "output_type": "stream",
     "text": [
      "\u001b[1mFeature order_amount : Mean = 3145.128, Median = 284.0 and Inter-Quartile-Range (IQR) = 227.0\u001b[0m\n",
      "There are \u001b[1m141 outliers\u001b[0m (2.82 % of the data points) in \u001b[1morder_amount\u001b[0m feature and the values are \u001b[1m[704000, 704000, 780, 765, 25725, 780, 765, 780, 780, 51450, 51450, 51450, 704000, 830, 51450, 748, 154350, 772, 804, 815, 885, 1056, 784, 25725, 704000, 815, 885, 25725, 25725, 935, 77175, 704000, 1760, 1408, 25725, 25725, 704000, 25725, 1408, 765, 736, 51450, 704000, 960, 704000, 800, 804, 800, 865, 745, 830, 880, 920, 765, 774, 790, 784, 704000, 25725, 704000, 948, 845, 760, 745, 51450, 102900, 965, 51450, 51450, 25725, 935, 77175, 780, 77175, 805, 25725, 51450, 51450, 704000, 77175, 25725, 830, 704000, 1056, 890, 980, 25725, 51450, 760, 25725, 51450, 748, 786, 704000, 77175, 736, 805, 25725, 1056, 736, 935, 1086, 736, 51450, 77175, 25725, 816, 810, 740, 25725, 704000, 51450, 1064, 77175, 780, 51450, 51450, 77175, 735, 25725, 760, 880, 780, 748, 748, 25725, 748, 800, 704000, 780, 77175, 960, 704000, 790, 704000, 760, 25725, 765, 880, 865, 772]\u001b[0m\n",
      "*****************************************************************************************************************************\n",
      "******************************\n",
      "\u001b[1mBoxplot of total_items column : \u001b[0m\n",
      "******************************\n"
     ]
    },
    {
     "data": {
      "image/png": "[encoded data removed]",
      "text/plain": [
       "<Figure size 1080x216 with 1 Axes>"
      ]
     },
     "metadata": {
      "needs_background": "light"
     },
     "output_type": "display_data"
    },
    {
     "name": "stdout",
     "output_type": "stream",
     "text": [
      "\u001b[1mFeature total_items : Mean = 8.787, Median = 2.0 and Inter-Quartile-Range (IQR) = 2.0\u001b[0m\n",
      "There are \u001b[1m18 outliers\u001b[0m (0.36 % of the data points) in \u001b[1mtotal_items\u001b[0m feature and the values are \u001b[1m[2000, 2000, 2000, 2000, 2000, 2000, 2000, 2000, 2000, 2000, 2000, 2000, 2000, 2000, 8, 2000, 2000, 2000]\u001b[0m\n",
      "*****************************************************************************************************************************\n"
     ]
    },
    {
     "data": {
      "text/html": [
       "<div>\n",
       "<style scoped>\n",
       "    .dataframe tbody tr th:only-of-type {\n",
       "        vertical-align: middle;\n",
       "    }\n",
       "\n",
       "    .dataframe tbody tr th {\n",
       "        vertical-align: top;\n",
       "    }\n",
       "\n",
       "    .dataframe thead th {\n",
       "        text-align: right;\n",
       "    }\n",
       "</style>\n",
       "<table border=\"1\" class=\"dataframe\">\n",
       "  <thead>\n",
       "    <tr style=\"text-align: right;\">\n",
       "      <th></th>\n",
       "      <th>Column Name</th>\n",
       "      <th>Mean</th>\n",
       "      <th>Median</th>\n",
       "      <th>Lower Quartile</th>\n",
       "      <th>Upper Quartile</th>\n",
       "      <th>IQR</th>\n",
       "      <th>No of Outliers Present</th>\n",
       "      <th>Percentage of Outliers</th>\n",
       "      <th>Values of Outliers</th>\n",
       "    </tr>\n",
       "  </thead>\n",
       "  <tbody>\n",
       "    <tr>\n",
       "      <th>0</th>\n",
       "      <td>order_id</td>\n",
       "      <td>2500.5</td>\n",
       "      <td>2500.5</td>\n",
       "      <td>1250.75</td>\n",
       "      <td>3750.25</td>\n",
       "      <td>2499.5</td>\n",
       "      <td>0</td>\n",
       "      <td>0.0 %</td>\n",
       "      <td>[]</td>\n",
       "    </tr>\n",
       "    <tr>\n",
       "      <th>1</th>\n",
       "      <td>shop_id</td>\n",
       "      <td>50.079</td>\n",
       "      <td>50.0</td>\n",
       "      <td>24.0</td>\n",
       "      <td>75.0</td>\n",
       "      <td>51.0</td>\n",
       "      <td>0</td>\n",
       "      <td>0.0 %</td>\n",
       "      <td>[]</td>\n",
       "    </tr>\n",
       "    <tr>\n",
       "      <th>2</th>\n",
       "      <td>user_id</td>\n",
       "      <td>849.092</td>\n",
       "      <td>849.0</td>\n",
       "      <td>775.0</td>\n",
       "      <td>925.0</td>\n",
       "      <td>150.0</td>\n",
       "      <td>0</td>\n",
       "      <td>0.0 %</td>\n",
       "      <td>[]</td>\n",
       "    </tr>\n",
       "    <tr>\n",
       "      <th>3</th>\n",
       "      <td>order_amount</td>\n",
       "      <td>3145.128</td>\n",
       "      <td>284.0</td>\n",
       "      <td>163.0</td>\n",
       "      <td>390.0</td>\n",
       "      <td>227.0</td>\n",
       "      <td>141</td>\n",
       "      <td>2.82 %</td>\n",
       "      <td>[735, 736, 736, 736, 736, 740, 745, 745, 748, 748, 748, 748, 748, 760, 760, 760, 760, 765, 765, 765, 765, 765, 772, 772, 774, 780, 780, 780, 780, 780, 780, 780, 780, 784, 784, 786, 790, 790, 800, 800, 800, 804, 804, 805, 805, 810, 815, 815, 816, 830, 830, 830, 845, 865, 865, 880, 880, 880, 885, 885, 890, 920, 935, 935, 935, 948, 960, 960, 965, 980, 1056, 1056, 1056, 1064, 1086, 1408, 1408, 1760, 25725, 25725, 25725, 25725, 25725, 25725, 25725, 25725, 25725, 25725, 25725, 25725, 25725, 25725, 25725, 25725, 25725, 25725, 25725, 51450, 51450, 51450, ...]</td>\n",
       "    </tr>\n",
       "    <tr>\n",
       "      <th>4</th>\n",
       "      <td>total_items</td>\n",
       "      <td>8.787</td>\n",
       "      <td>2.0</td>\n",
       "      <td>1.0</td>\n",
       "      <td>3.0</td>\n",
       "      <td>2.0</td>\n",
       "      <td>18</td>\n",
       "      <td>0.36 %</td>\n",
       "      <td>[8, 2000, 2000, 2000, 2000, 2000, 2000, 2000, 2000, 2000, 2000, 2000, 2000, 2000, 2000, 2000, 2000, 2000]</td>\n",
       "    </tr>\n",
       "  </tbody>\n",
       "</table>\n",
       "</div>"
      ],
      "text/plain": [
       "    Column Name      Mean  Median Lower Quartile Upper Quartile     IQR  \\\n",
       "0  order_id      2500.5    2500.5  1250.75        3750.25        2499.5   \n",
       "1  shop_id       50.079    50.0    24.0           75.0           51.0     \n",
       "2  user_id       849.092   849.0   775.0          925.0          150.0    \n",
       "3  order_amount  3145.128  284.0   163.0          390.0          227.0    \n",
       "4  total_items   8.787     2.0     1.0            3.0            2.0      \n",
       "\n",
       "  No of Outliers Present Percentage of Outliers  \\\n",
       "0  0                      0.0 %                   \n",
       "1  0                      0.0 %                   \n",
       "2  0                      0.0 %                   \n",
       "3  141                    2.82 %                  \n",
       "4  18                     0.36 %                  \n",
       "\n",
       "                                                                                                                                                                                                                                                                                                                                                                                                                                                                                                                                                              Values of Outliers  \n",
       "0  []                                                                                                                                                                                                                                                                                                                                                                                                                                                                                                                                                                             \n",
       "1  []                                                                                                                                                                                                                                                                                                                                                                                                                                                                                                                                                                             \n",
       "2  []                                                                                                                                                                                                                                                                                                                                                                                                                                                                                                                                                                             \n",
       "3  [735, 736, 736, 736, 736, 740, 745, 745, 748, 748, 748, 748, 748, 760, 760, 760, 760, 765, 765, 765, 765, 765, 772, 772, 774, 780, 780, 780, 780, 780, 780, 780, 780, 784, 784, 786, 790, 790, 800, 800, 800, 804, 804, 805, 805, 810, 815, 815, 816, 830, 830, 830, 845, 865, 865, 880, 880, 880, 885, 885, 890, 920, 935, 935, 935, 948, 960, 960, 965, 980, 1056, 1056, 1056, 1064, 1086, 1408, 1408, 1760, 25725, 25725, 25725, 25725, 25725, 25725, 25725, 25725, 25725, 25725, 25725, 25725, 25725, 25725, 25725, 25725, 25725, 25725, 25725, 51450, 51450, 51450, ...]  \n",
       "4  [8, 2000, 2000, 2000, 2000, 2000, 2000, 2000, 2000, 2000, 2000, 2000, 2000, 2000, 2000, 2000, 2000, 2000]                                                                                                                                                                                                                                                                                                                                                                                                                                                                      "
      ]
     },
     "execution_count": 8,
     "metadata": {},
     "output_type": "execute_result"
    }
   ],
   "source": [
    "showOutliers(sneakerData)"
   ]
  },
  {
   "cell_type": "markdown",
   "id": "4ceb9fe1-5782-4b7e-aaee-b6857423b1fc",
   "metadata": {},
   "source": [
    "**As we can observe from the above:**\n",
    "* **Two columns namely 'order_amount' and 'total_items' are having outliers present.**\n",
    "* **Attribute 'order_amount' having most of the outliers, about 2.82% of the dataset and 'total_items' with 0.36%.**\n",
    "\n",
    "**Let's check skewness of the dataset:**"
   ]
  },
  {
   "cell_type": "code",
   "execution_count": 9,
   "id": "cc275678-77d6-4bde-98e9-d26a8f315a83",
   "metadata": {
    "tags": []
   },
   "outputs": [
    {
     "data": {
      "text/plain": [
       "total_items     17.065556\n",
       "order_amount    16.675033\n",
       "shop_id         0.013830 \n",
       "order_id        0.000000 \n",
       "user_id        -0.034052 \n",
       "dtype: float64"
      ]
     },
     "execution_count": 9,
     "metadata": {},
     "output_type": "execute_result"
    }
   ],
   "source": [
    "# checking skewness of the data\n",
    "sneakerData.skew().sort_values(ascending=False)"
   ]
  },
  {
   "cell_type": "markdown",
   "id": "304f3681-c4aa-4fa2-bc2e-9f243e1ae6f9",
   "metadata": {},
   "source": [
    "**Now lets analyize 'total_items' attribute:**"
   ]
  },
  {
   "cell_type": "code",
   "execution_count": 10,
   "id": "de43f448-08e9-48a1-a93a-049ee488c178",
   "metadata": {},
   "outputs": [],
   "source": [
    "def catPlot(x,data,kind,size=(5,5),y=None,hue=None,column=None,order=None,hue_order = None, rotation=False):\n",
    "    '''\n",
    "    Use to plot seaborn catplot with proper annotation\n",
    "    \n",
    "    Parameters\n",
    "    ----------\n",
    "    x, y, hue : names of variables in ``data``\n",
    "        Inputs for plotting long-form data. See examples for interpretation.        \n",
    "    data : DataFrame\n",
    "        Long-form (tidy) dataset for plotting. Each column should correspond\n",
    "        to a variable, and each row should correspond to an observation.\n",
    "    size : plot figure size (width, height)\n",
    "    column: col : names of variables in ``data``, optional\n",
    "    Categorical variables that will determine the faceting of the grid.\n",
    "    order, hue_order : lists of strings, optional\n",
    "        Order to plot the categorical levels in, otherwise the levels are\n",
    "        inferred from the data objects.        \n",
    "    kind : \"bar\", or \"count\".\n",
    "    rotation : rotate x ticks to 90 degree\n",
    "\n",
    "    Returns\n",
    "    -------\n",
    "    Plot seabron catplot with proper annotation of each bar and also with concerned title of the plot.\n",
    "    '''\n",
    "    g = sns.catplot(x=x,y=y,data=data,kind=kind,hue=hue,col=column,order=order,hue_order=hue_order )\n",
    "\n",
    "    if(hue != None):\n",
    "        plt.title(f\"Distribution of column : '{x}' by {hue}\")                       # setting title of the figure\n",
    "        \n",
    "    else:\n",
    "        plt.title(f\"Distribution of column : '{x}'\")                              # setting title of the figure\n",
    "        \n",
    "    g.fig.set_size_inches(size)\n",
    "    ax = g.facet_axis(0,0)\n",
    "            \n",
    "    if(rotation):\n",
    "        g.set_xticklabels(rotation=90)\n",
    "    \n",
    "    for p in ax.patches:\n",
    "        y = 0 if(math.isnan(p.get_height())) else int(p.get_height())\n",
    "        ax.annotate(y, (p.get_x()+(p.get_width()/2), p.get_height()), xytext=(0, 10), fontsize=12, color='black',\n",
    "                    fontweight='bold', ha='center', va='center', textcoords='offset points')\n",
    "    plt.show()"
   ]
  },
  {
   "cell_type": "code",
   "execution_count": 11,
   "id": "47e8d50c-8d4c-461e-98f0-a345f895fc2f",
   "metadata": {},
   "outputs": [
    {
     "data": {
      "image/png": "[encoded data removed]",
      "text/plain": [
       "<Figure size 360x360 with 1 Axes>"
      ]
     },
     "metadata": {
      "needs_background": "light"
     },
     "output_type": "display_data"
    }
   ],
   "source": [
    "catPlot('total_items', sneakerData, 'count')"
   ]
  },
  {
   "cell_type": "markdown",
   "id": "5012a667-d7d7-41c2-bbf6-f465f2dafc92",
   "metadata": {},
   "source": [
    "**As can be seen from above count plot, there are 17 orders which having 'total_items' of value 2000. Earlier in boxplot also shown the same as outliers in the dataset.<br><br>\n",
    "In this case, we can calculate the Average Order Value for small and bulk orders separately,\n",
    "having 2 averages and then take a weighted average to arrive at final AOV. We may also find average value per order per item as a useful\n",
    "metric for evaluation in this scenario to get the price of single sneaker pair (Revenue per order per item).**<br><br>\n",
    "**b. What metric would you report for this dataset?**<br><br>\n",
    "**Out of 5000 orders, only 17 are bulk orders that messes with the AOV values, hence a simple average can't be used as metric.\n",
    "On further analysis, we find that all these are placed by one customer,user_id 607. Hence we can treat this customer as an outlier,\n",
    "ignore the value and find AOV for others which would be more close to reality. We also need to take into account that one customer may place multiple orders, hence grouping the orders by user id would also provide interesting results.\n",
    "We could also find average order value per day (by grouping them on created_by date) and then take the mean over 30 days period.\n",
    "But this also does not address the problem of bulk order. Hence, a better metric would be to find the average order value per day\n",
    "(since the question mentions analysis on AOV) and take the mode of it as it will reflect the most common order value.<br><br>\n",
    "If AOV is not to be considered, mean of amount per item would serve as better metric as it will tell as how much value an order of one item would generate.**\n",
    "\n",
    "**A better metric would be to find the AOV after treating these outliers, ie, replace outlier values to lower side of 1st quartile with value of 1st quartile and to higher side of 3rd quartile to value on 3rd quartile , so as to have little impact to our data distribtion due to outliers. This is better than ignoring the outliers since the value of outliers is huge and ignoring them would affect the total revenue generated through them. In below steps, we are trying to do so.**"
   ]
  },
  {
   "cell_type": "code",
   "execution_count": 12,
   "id": "2697bad4-b9be-469c-9474-97afcd02e24c",
   "metadata": {},
   "outputs": [],
   "source": [
    "for feature in (sneakerData.select_dtypes(include=np.number).columns.tolist()):\n",
    "    Q1 = sneakerData[feature].quantile(0.25)        # evaluating lower / first quartile\n",
    "    Q3 = sneakerData[feature].quantile(0.75)        # evaluating upper / third quartile\n",
    "    IQR = Q3 - Q1                             # evaluating Inter Quartile Range i.e IQR\n",
    "    low = Q1 - 1.5 * IQR\n",
    "    high = Q3 + 1.5 * IQR\n",
    "    sneakerData.loc[(sneakerData[feature] < low), feature] = low\n",
    "    sneakerData.loc[(sneakerData[feature] > high), feature] = high"
   ]
  },
  {
   "cell_type": "markdown",
   "id": "941f9b4e-7861-42e4-a2bc-714366341b1a",
   "metadata": {},
   "source": [
    "**Now lets confirm outliers are treated properly.**"
   ]
  },
  {
   "cell_type": "code",
   "execution_count": 13,
   "id": "f958cc91-fef1-4820-9f44-d0283d443283",
   "metadata": {},
   "outputs": [
    {
     "data": {
      "text/html": [
       "<div>\n",
       "<style scoped>\n",
       "    .dataframe tbody tr th:only-of-type {\n",
       "        vertical-align: middle;\n",
       "    }\n",
       "\n",
       "    .dataframe tbody tr th {\n",
       "        vertical-align: top;\n",
       "    }\n",
       "\n",
       "    .dataframe thead th {\n",
       "        text-align: right;\n",
       "    }\n",
       "</style>\n",
       "<table border=\"1\" class=\"dataframe\">\n",
       "  <thead>\n",
       "    <tr style=\"text-align: right;\">\n",
       "      <th></th>\n",
       "      <th>Column Name</th>\n",
       "      <th>Mean</th>\n",
       "      <th>Median</th>\n",
       "      <th>Lower Quartile</th>\n",
       "      <th>Upper Quartile</th>\n",
       "      <th>IQR</th>\n",
       "      <th>No of Outliers Present</th>\n",
       "      <th>Percentage of Outliers</th>\n",
       "      <th>Values of Outliers</th>\n",
       "    </tr>\n",
       "  </thead>\n",
       "  <tbody>\n",
       "    <tr>\n",
       "      <th>0</th>\n",
       "      <td>order_id</td>\n",
       "      <td>2500.5</td>\n",
       "      <td>2500.5</td>\n",
       "      <td>1250.75</td>\n",
       "      <td>3750.25</td>\n",
       "      <td>2499.5</td>\n",
       "      <td>0</td>\n",
       "      <td>0.0 %</td>\n",
       "      <td>[]</td>\n",
       "    </tr>\n",
       "    <tr>\n",
       "      <th>1</th>\n",
       "      <td>shop_id</td>\n",
       "      <td>50.079</td>\n",
       "      <td>50.0</td>\n",
       "      <td>24.0</td>\n",
       "      <td>75.0</td>\n",
       "      <td>51.0</td>\n",
       "      <td>0</td>\n",
       "      <td>0.0 %</td>\n",
       "      <td>[]</td>\n",
       "    </tr>\n",
       "    <tr>\n",
       "      <th>2</th>\n",
       "      <td>user_id</td>\n",
       "      <td>849.092</td>\n",
       "      <td>849.0</td>\n",
       "      <td>775.0</td>\n",
       "      <td>925.0</td>\n",
       "      <td>150.0</td>\n",
       "      <td>0</td>\n",
       "      <td>0.0 %</td>\n",
       "      <td>[]</td>\n",
       "    </tr>\n",
       "    <tr>\n",
       "      <th>3</th>\n",
       "      <td>order_amount</td>\n",
       "      <td>306.033</td>\n",
       "      <td>284.0</td>\n",
       "      <td>163.0</td>\n",
       "      <td>390.0</td>\n",
       "      <td>227.0</td>\n",
       "      <td>0</td>\n",
       "      <td>0.0 %</td>\n",
       "      <td>[]</td>\n",
       "    </tr>\n",
       "    <tr>\n",
       "      <th>4</th>\n",
       "      <td>total_items</td>\n",
       "      <td>2.007</td>\n",
       "      <td>2.0</td>\n",
       "      <td>1.0</td>\n",
       "      <td>3.0</td>\n",
       "      <td>2.0</td>\n",
       "      <td>0</td>\n",
       "      <td>0.0 %</td>\n",
       "      <td>[]</td>\n",
       "    </tr>\n",
       "  </tbody>\n",
       "</table>\n",
       "</div>"
      ],
      "text/plain": [
       "    Column Name     Mean  Median Lower Quartile Upper Quartile     IQR  \\\n",
       "0  order_id      2500.5   2500.5  1250.75        3750.25        2499.5   \n",
       "1  shop_id       50.079   50.0    24.0           75.0           51.0     \n",
       "2  user_id       849.092  849.0   775.0          925.0          150.0    \n",
       "3  order_amount  306.033  284.0   163.0          390.0          227.0    \n",
       "4  total_items   2.007    2.0     1.0            3.0            2.0      \n",
       "\n",
       "  No of Outliers Present Percentage of Outliers Values of Outliers  \n",
       "0  0                      0.0 %                  []                 \n",
       "1  0                      0.0 %                  []                 \n",
       "2  0                      0.0 %                  []                 \n",
       "3  0                      0.0 %                  []                 \n",
       "4  0                      0.0 %                  []                 "
      ]
     },
     "execution_count": 13,
     "metadata": {},
     "output_type": "execute_result"
    }
   ],
   "source": [
    "showOutliers(sneakerData)"
   ]
  },
  {
   "cell_type": "markdown",
   "id": "d2638548-3500-475e-9ab3-9539fd13b8b2",
   "metadata": {},
   "source": [
    "**c. What is its value?**"
   ]
  },
  {
   "cell_type": "code",
   "execution_count": 14,
   "id": "a34d19f8-8bc6-4edb-b7ef-ab78f60b7478",
   "metadata": {},
   "outputs": [
    {
     "name": "stdout",
     "output_type": "stream",
     "text": [
      "[INFO] After treating outliers, Average order value (AOV) of the sneaker shops is 306.03\n"
     ]
    }
   ],
   "source": [
    "print(f\"[INFO] After treating outliers, Average order value (AOV) of the sneaker shops is {round(sneakerData['order_amount'].sum()/len(sneakerData), 2)}\")"
   ]
  },
  {
   "cell_type": "markdown",
   "id": "706c5685",
   "metadata": {},
   "source": [
    "The above value of $306.03 which seems a fair average of AOV."
   ]
  },
  {
   "cell_type": "markdown",
   "id": "0649de23-29ca-47c4-9b1f-2cd15b280b42",
   "metadata": {},
   "source": [
    "**Question 2: For this question you’ll need to use SQL. Please use queries to answer the following questions. Paste your queries along with your final numerical answers below.**\n",
    "\n",
    "**a. How many orders were shipped by Speedy Express in total?**\n",
    "\n",
    "**Ans: 54**<br>\n",
    "**Query:**"
   ]
  },
  {
   "cell_type": "raw",
   "id": "58f1c52c-9314-4cf2-ba8a-da9b4d72d885",
   "metadata": {},
   "source": [
    "SELECT COUNT(1) AS NoOfOrders\n",
    "FROM [Orders] A, [Shippers] B\n",
    "WHERE A.ShipperID = B.ShipperID\n",
    "AND B.ShipperName = 'Speedy Express'"
   ]
  },
  {
   "cell_type": "markdown",
   "id": "b0f0f551-d1b5-42dd-ba7c-7ca2de375106",
   "metadata": {},
   "source": [
    "**b. What is the last name of the employee with the most orders?**\n",
    "\n",
    "**Ans: Peacock**<br>\n",
    "**Query:**"
   ]
  },
  {
   "cell_type": "raw",
   "id": "0efda5d5-535f-4053-abc8-b8063a3a4697",
   "metadata": {},
   "source": [
    "SELECT LastName from (\n",
    "SELECT LastName,count(1) AS NoOfOrders\n",
    "FROM [Orders] A, [Employees] B\n",
    "WHERE A.EmployeeID = B.EmployeeID\n",
    "GROUP BY LastName\n",
    "ORDER BY NoOfOrders DESC\n",
    "LIMIT 1)"
   ]
  },
  {
   "cell_type": "markdown",
   "id": "42ca83e3-ff35-462d-870a-e1eb35976b4d",
   "metadata": {},
   "source": [
    "**c. What product was ordered the most by customers in Germany?**\n",
    "\n",
    "**Ans: Boston Crab Meat**<br>\n",
    "**Query:**"
   ]
  },
  {
   "cell_type": "raw",
   "id": "def7627f-9e84-44e4-b96d-4e66140e5952",
   "metadata": {},
   "source": [
    "SELECT ProductName FROM (\n",
    "SELECT D.ProductName,SUM(C.Quantity) AS TotalQuantity\n",
    "FROM [Customers] A, [Orders] B, [OrderDetails] C, [Products] D\n",
    "WHERE A.CustomerID = B.CustomerID\n",
    "AND B.OrderID = C.OrderID\n",
    "AND C.ProductID = D.ProductID\n",
    "AND A.Country = 'Germany'\n",
    "GROUP BY D.ProductName\n",
    "ORDER BY TotalQuantity DESC\n",
    "LIMIT 1)"
   ]
  },
  {
   "cell_type": "code",
   "execution_count": null,
   "id": "0dd6b3b5",
   "metadata": {},
   "outputs": [],
   "source": []
  }
 ],
 "metadata": {
  "kernelspec": {
   "display_name": "Python 3 (ipykernel)",
   "language": "python",
   "name": "python3"
  },
  "language_info": {
   "codemirror_mode": {
    "name": "ipython",
    "version": 3
   },
   "file_extension": ".py",
   "mimetype": "text/x-python",
   "name": "python",
   "nbconvert_exporter": "python",
   "pygments_lexer": "ipython3",
   "version": "3.8.12"
  }
 },
 "nbformat": 4,
 "nbformat_minor": 5
}
